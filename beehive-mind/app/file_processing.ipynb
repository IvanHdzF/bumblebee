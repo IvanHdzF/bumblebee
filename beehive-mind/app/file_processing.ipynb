{
 "cells": [
  {
   "metadata": {
    "ExecuteTime": {
     "end_time": "2024-12-10T06:10:05.035478Z",
     "start_time": "2024-12-10T06:10:05.030125Z"
    }
   },
   "cell_type": "code",
   "source": [
    "import os\n",
    "import tempfile\n",
    "import warnings\n",
    "from pathlib import Path\n",
    "\n",
    "import numpy as np\n",
    "from df.enhance import enhance, init_df, load_audio\n",
    "from loguru import logger\n",
    "from pydub import AudioSegment\n",
    "\n",
    "input_path = Path('./data/audio_input')\n",
    "output_path = Path('./data/audio_output')\n",
    "noise_sample = Path(\"./data/noise/noise_sample.wav\")  # Minimum amplitude threshold in dB\n",
    "\n",
    "unique_extensions = set()\n"
   ],
   "id": "9db27ae4a4ce0d73",
   "outputs": [],
   "execution_count": 17
  },
  {
   "metadata": {},
   "cell_type": "code",
   "source": [
    "def reduce_noise_deep_filter(audio_segment: AudioSegment, noise_reduction_factor: float = 1.0):\n",
    "    # Initialize DeepFilterNet model\n",
    "    model, df_state, _ = init_df()\n",
    "\n",
    "    # Convert AudioSegment to numpy array\n",
    "    samples = np.array(audio_segment.get_array_of_samples()).astype(np.float32)\n",
    "    samples /= np.finfo(samples.dtype).max  # Normalize to [-1, 1]\n",
    "\n",
    "    # Create a temporary file to store the audio\n",
    "    with tempfile.NamedTemporaryFile(suffix=\".wav\", delete=False) as temp_file:\n",
    "        temp_filename = temp_file.name\n",
    "        audio_segment.export(temp_filename, format=\"wav\")\n",
    "\n",
    "    try:\n",
    "        # Load audio using DeepFilterNet's load_audio function\n",
    "        audio, _ = load_audio(temp_filename, sr=df_state.sr())\n",
    "\n",
    "        # Enhance (denoise) the audio\n",
    "        enhanced = enhance(model, df_state, audio)\n",
    "\n",
    "        # Apply noise reduction factor\n",
    "        if noise_reduction_factor != 1.0:\n",
    "            enhanced = audio + noise_reduction_factor * (enhanced - audio)\n",
    "\n",
    "        # Convert back to int16 for AudioSegment\n",
    "        enhanced_int16 = np.int16(enhanced * 32767)\n",
    "\n",
    "        # Create a new AudioSegment from the enhanced audio\n",
    "        return AudioSegment(\n",
    "            enhanced_int16.tobytes(),\n",
    "            frame_rate=df_state.sr(),\n",
    "            sample_width=2,\n",
    "            channels=1\n",
    "        )\n",
    "    finally:\n",
    "        # Clean up the temporary file\n",
    "        os.unlink(temp_filename)"
   ],
   "id": "d3d7acde38a74aa7",
   "outputs": [],
   "execution_count": null
  },
  {
   "metadata": {
    "jupyter": {
     "is_executing": true
    },
    "ExecuteTime": {
     "start_time": "2024-12-10T06:21:33.338543Z"
    }
   },
   "cell_type": "code",
   "outputs": [],
   "execution_count": null,
   "source": [
    "def split_audio(input_folder, output_folder, segment_length=2000, min_amplitude_db=-30):\n",
    "    warnings.simplefilter(\"ignore\", category=FutureWarning)\n",
    "    warnings.simplefilter(\"ignore\", category=UserWarning)\n",
    "    logger.remove()\n",
    "\n",
    "    input_folder_path = Path(input_folder)\n",
    "    output_folder_path = Path(output_folder)\n",
    "\n",
    "    file_counter = 0\n",
    "    file_skipped = 0\n",
    "    file_processed = 0\n",
    "    for file in input_folder_path.rglob('*'):\n",
    "        if file.is_file() and file.suffix.lower() in {'.wav', '.mp3'}:\n",
    "            file_counter += 1\n",
    "            try:\n",
    "                # Determine the relative path of the file from the input folder\n",
    "                relative_path = file.relative_to(input_folder_path)\n",
    "\n",
    "                # Create the corresponding output subfolder\n",
    "                output_subfolder = output_folder_path / relative_path.parent\n",
    "                output_subfolder.mkdir(parents=True, exist_ok=True)\n",
    "\n",
    "                audio = AudioSegment.from_file(str(file), format=file.suffix.lower()[1:])\n",
    "                # Convert the chunk to a np array for noise reduction\n",
    "                audio = reduce_noise_deep_filter(audio, noise_reduction_factor=0.5)\n",
    "\n",
    "                for i, chunk in enumerate(audio[::segment_length]):\n",
    "                    # Check if the maximum amplitude of the chunk is above the threshold\n",
    "                    if chunk.dBFS > min_amplitude_db:\n",
    "                        output_file = output_subfolder / f\"{relative_path.parent}_{file_counter}_{i}.wav\"\n",
    "                        chunk.export(output_file, format=file.suffix.lower()[1:])\n",
    "                        print(f\"Exported: {output_file}\")\n",
    "                        file_processed += 1\n",
    "                    else:\n",
    "                        print(f\"Skipped chunk {i} from {relative_path} (below amplitude threshold)\")\n",
    "                        file_skipped += 1\n",
    "\n",
    "                print(f\"Processed: {relative_path}\")\n",
    "            except Exception as e:\n",
    "                print(f\"Error processing {file}: {str(e)}\")\n",
    "    print(\"Finished\")\n",
    "    print(f\"Processed {file_processed} files\")\n",
    "    print(f\"Skipped {file_skipped} files\")\n",
    "\n",
    "\n",
    "segment_length = 2000  # 2 seconds\n",
    "min_amplitude_db = -30  # Minimum amplitude threshold in dB\n",
    "split_audio(input_path, output_path, segment_length, min_amplitude_db)"
   ],
   "id": "14da86d820f1086d"
  },
  {
   "metadata": {},
   "cell_type": "code",
   "source": "",
   "id": "965dfc58e78a8f03",
   "outputs": [],
   "execution_count": null
  }
 ],
 "metadata": {
  "kernelspec": {
   "display_name": "Python 3",
   "language": "python",
   "name": "python3"
  },
  "language_info": {
   "codemirror_mode": {
    "name": "ipython",
    "version": 2
   },
   "file_extension": ".py",
   "mimetype": "text/x-python",
   "name": "python",
   "nbconvert_exporter": "python",
   "pygments_lexer": "ipython2",
   "version": "2.7.6"
  }
 },
 "nbformat": 4,
 "nbformat_minor": 5
}
