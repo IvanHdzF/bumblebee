{
 "cells": [
  {
   "cell_type": "code",
   "execution_count": null,
   "id": "initial_id",
   "metadata": {
    "collapsed": true
   },
   "outputs": [],
   "source": [
    "def split_audio(input_folder, output_folder, segment_length=2000, min_amplitude_db=-30):\n",
    "    input_folder_path = Path(input_folder)\n",
    "    output_folder_path = Path(output_folder)\n",
    "\n",
    "    file_counter = 0\n",
    "    for file in input_folder_path.rglob('*'):\n",
    "        if file.is_file() and file.suffix.lower() in {'.wav', '.mp3'}:\n",
    "            file_counter += 1\n",
    "            try:\n",
    "                relative_path = file.relative_to(input_folder_path)\n",
    "\n",
    "                output_subfolder = output_folder_path / relative_path.parent\n",
    "                output_subfolder.mkdir(parents=True, exist_ok=True)\n",
    "\n",
    "                audio = AudioSegment.from_file(str(file), format=file.suffix.lower()[1:])\n",
    "                audio = reduce_noise_deep_filter(audio, noise_reduction_factor=0.5)\n",
    "\n",
    "                for i, chunk in enumerate(audio[::segment_length]):\n",
    "                    if chunk.dBFS > min_amplitude_db:\n",
    "                        output_file = output_subfolder / f\"{relative_path.parent}_{file_counter}_{i}.wav\"\n",
    "                        chunk.export(output_file, format=file.suffix.lower()[1:])\n",
    "            except Exception as e:\n",
    "                print(f\"Error processing {file}: {str(e)}\")"
   ]
  }
 ],
 "metadata": {
  "kernelspec": {
   "display_name": "Python 3",
   "language": "python",
   "name": "python3"
  },
  "language_info": {
   "codemirror_mode": {
    "name": "ipython",
    "version": 2
   },
   "file_extension": ".py",
   "mimetype": "text/x-python",
   "name": "python",
   "nbconvert_exporter": "python",
   "pygments_lexer": "ipython2",
   "version": "2.7.6"
  }
 },
 "nbformat": 4,
 "nbformat_minor": 5
}
