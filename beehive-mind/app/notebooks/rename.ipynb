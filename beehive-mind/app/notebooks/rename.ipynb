{
 "cells": [
  {
   "cell_type": "code",
   "execution_count": 1,
   "metadata": {},
   "outputs": [],
   "source": [
    "import os\n",
    "\n",
    "# Define the function to replace content in files\n",
    "def replace_in_file(file_path, old_word, new_word):\n",
    "    with open(file_path, 'r', encoding='utf-8') as file:\n",
    "        content = file.read()\n",
    "    \n",
    "    content = content.replace(old_word, new_word)\n",
    "    \n",
    "    with open(file_path, 'w', encoding='utf-8') as file:\n",
    "        file.write(content)\n",
    "\n",
    "# Define the function to rename files and directories\n",
    "def rename_files_and_dirs(root_dir, old_word, new_word):\n",
    "    for dirpath, dirnames, filenames in os.walk(root_dir, topdown=False):\n",
    "        # Rename files\n",
    "        for filename in filenames:\n",
    "            if old_word in filename:\n",
    "                old_file_path = os.path.join(dirpath, filename)\n",
    "                new_filename = filename.replace(old_word, new_word)\n",
    "                new_file_path = os.path.join(dirpath, new_filename)\n",
    "                os.rename(old_file_path, new_file_path)\n",
    "                # Replace content inside the file\n",
    "                replace_in_file(new_file_path, old_word, new_word)\n",
    "        \n",
    "        # Rename directories\n",
    "        for dirname in dirnames:\n",
    "            if old_word in dirname:\n",
    "                old_dir_path = os.path.join(dirpath, dirname)\n",
    "                new_dirname = dirname.replace(old_word, new_word)\n",
    "                new_dir_path = os.path.join(dirpath, new_dirname)\n",
    "                os.rename(old_dir_path, new_dir_path)\n",
    "\n",
    "# Example usage\n",
    "root_directory = 'F:/Biblioteca/Maestria en CC/Tesis/Implementacion/Bumblebee/beehive-guard'  # Replace with your root directory\n",
    "rename_files_and_dirs(root_directory, 'Nest', 'Guard')\n"
   ]
  }
 ],
 "metadata": {
  "kernelspec": {
   "display_name": "ML",
   "language": "python",
   "name": "python3"
  },
  "language_info": {
   "codemirror_mode": {
    "name": "ipython",
    "version": 3
   },
   "file_extension": ".py",
   "mimetype": "text/x-python",
   "name": "python",
   "nbconvert_exporter": "python",
   "pygments_lexer": "ipython3",
   "version": "3.12.8"
  }
 },
 "nbformat": 4,
 "nbformat_minor": 2
}
